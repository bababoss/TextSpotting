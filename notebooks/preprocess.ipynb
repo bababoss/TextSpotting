{
 "cells": [
  {
   "cell_type": "code",
   "execution_count": 3,
   "metadata": {},
   "outputs": [],
   "source": [
    "import glob\n",
    "from shutil import copyfile\n",
    "image_list=glob.glob(\"/home/cogknit/experiments/CRNN_Tensorflow/data/Train/*.jpg\")\n",
    "label_list=glob.glob(\"/home/cogknit/experiments/dataset/clean_label_660/*.label\")\n",
    "path=\"/home/cogknit/experiments/CRNN_Tensorflow/data/Test/\"\n",
    "with open(\"/home/cogknit/experiments/CRNN_Tensorflow/data/Test/sample.txt\",'w') as f:\n",
    "    for ll in label_list:\n",
    "        with open(ll) as lf:\n",
    "            content=lf.readlines()\n",
    "            if not content[0].strip('\\n'):\n",
    "                print(\"najknf\",ll)\n",
    "            f.write(path+ll.split('/')[-1].split('.')[0]+\".jpg,\"+content[0].strip('\\n')+\"\\n\")\n",
    "   \n",
    "    "
   ]
  },
  {
   "cell_type": "code",
   "execution_count": 14,
   "metadata": {},
   "outputs": [
    {
     "name": "stdout",
     "output_type": "stream",
     "text": [
      "[['/home/cogknit/experiments/dataset/final_dataset_crop_660/frame327.jpg'\n",
      "  'DL10CS7303']\n",
      " ['/home/cogknit/experiments/dataset/final_dataset_crop_660/frame482.jpg'\n",
      "  'DL 1CV 0393']\n",
      " ['/home/cogknit/experiments/dataset/final_dataset_crop_660/frame297.jpg'\n",
      "  'DL9CAC6377']\n",
      " ...\n",
      " ['/home/cogknit/experiments/dataset/final_dataset_crop_660/frame434.jpg'\n",
      "  'DL 1CV 0393']\n",
      " ['/home/cogknit/experiments/dataset/final_dataset_crop_660/frame196.jpg'\n",
      "  'DL 4C AB 3560']\n",
      " ['/home/cogknit/experiments/dataset/final_dataset_crop_660/frame864.jpg'\n",
      "  'UP 15 CN 5555']]\n"
     ]
    }
   ],
   "source": [
    "import numpy as np\n",
    "an_path=\"/home/cogknit/experiments/CRNN_Tensorflow/sample.txt\"\n",
    "with open(an_path,'r') as anno_file:\n",
    "    info = np.array([tmp.strip().split(',') for tmp in anno_file.readlines()])\n",
    "    print(info)"
   ]
  },
  {
   "cell_type": "code",
   "execution_count": null,
   "metadata": {},
   "outputs": [],
   "source": []
  }
 ],
 "metadata": {
  "kernelspec": {
   "display_name": "Python 3",
   "language": "python",
   "name": "python3"
  },
  "language_info": {
   "codemirror_mode": {
    "name": "ipython",
    "version": 3
   },
   "file_extension": ".py",
   "mimetype": "text/x-python",
   "name": "python",
   "nbconvert_exporter": "python",
   "pygments_lexer": "ipython3",
   "version": "3.5.2"
  }
 },
 "nbformat": 4,
 "nbformat_minor": 2
}
